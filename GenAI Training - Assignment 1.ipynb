{
 "cells": [
  {
   "cell_type": "markdown",
   "id": "0c78b45c",
   "metadata": {},
   "source": [
    "SETTING UP ENVIRONMENT VARIABLES"
   ]
  },
  {
   "cell_type": "code",
   "execution_count": 100,
   "id": "7461a16b-19fc-4146-9b65-e5c1c5916974",
   "metadata": {},
   "outputs": [
    {
     "data": {
      "text/plain": [
       "True"
      ]
     },
     "execution_count": 100,
     "metadata": {},
     "output_type": "execute_result"
    }
   ],
   "source": [
    "from dotenv import load_dotenv\n",
    "load_dotenv()"
   ]
  },
  {
   "cell_type": "code",
   "execution_count": 101,
   "id": "0c3c243a",
   "metadata": {},
   "outputs": [],
   "source": [
    "MODEL_NAME = \"gpt-3.5-turbo\"\n",
    "#MODEL_NAME = \"llama2\""
   ]
  },
  {
   "cell_type": "markdown",
   "id": "1cc12d26",
   "metadata": {},
   "source": [
    "LOAD MODEL"
   ]
  },
  {
   "cell_type": "code",
   "execution_count": 77,
   "id": "86b15a66-5871-4afe-8f4c-e7a46a4eb909",
   "metadata": {},
   "outputs": [],
   "source": [
    "from langchain_openai import ChatOpenAI\n",
    "from langchain_openai.embeddings import OpenAIEmbeddings\n",
    "from langchain_community.llms import Ollama\n",
    "from langchain_community.embeddings import OllamaEmbeddings\n",
    "\n",
    "if MODEL_NAME.startswith(\"gpt\"):\n",
    "    llm = ChatOpenAI(model=MODEL_NAME, temperature=0.0)\n",
    "    embeddings = OpenAIEmbeddings()\n",
    "else:\n",
    "    llm = Ollama(model = MODEL_NAME)\n",
    "    embeddings = OllamaEmbeddings()\n"
   ]
  },
  {
   "cell_type": "markdown",
   "id": "a6ed98bb",
   "metadata": {},
   "source": [
    "CREATING PROMPT"
   ]
  },
  {
   "cell_type": "code",
   "execution_count": 43,
   "id": "c46fc66c-fa72-4de3-9900-c71567282bb5",
   "metadata": {},
   "outputs": [],
   "source": [
    "from langchain.prompts import PromptTemplate\n",
    "\n",
    "template = '''\n",
    "Answer the question based on the context given below. If you can't answer the question, reply \"I can't answer this as this is beyond the context provided to me.\"\n",
    "\n",
    "context: {context}\n",
    "\n",
    "question: {question}\n",
    "'''\n",
    "\n",
    "prompt_template = PromptTemplate.from_template(template)"
   ]
  },
  {
   "cell_type": "markdown",
   "id": "bf6cdd21",
   "metadata": {},
   "source": [
    "LOAD DOCUMENT"
   ]
  },
  {
   "cell_type": "code",
   "execution_count": 59,
   "id": "31bf79c6-3eef-4612-a276-6a8a05a50a84",
   "metadata": {},
   "outputs": [
    {
     "data": {
      "text/plain": [
       "[Document(page_content=\"Ramayana Story in ShortThe epic Ramayana has been told in countless ways in several Indian and\\nSoutheast Asian languages and geographical locations. Nonetheless, the\\nfollowing are the two most well-known and signiﬁcant versions:\\nThe Valmiki Ramayana: Written by the sage Valmiki, this version is regarded as\\nthe oldest and original. It provides a thorough and objective narrative and is\\nwritten in Sanskrit.\\nTulsi Ramayana or Ramcharitmanas: Written in the sixteenth century by the\\npoet-saint Tulsidas. Composed in the Hindi dialect of Awadhi, a shortened and\\nmore concise rendition that emphasizes Ram, Sita, and Lakshmana's emotional10/06/2024, 02:58 Ramayana Short Story\\nhttps://blog.jkyog.org/ramayana-short-story/ 2/17\", metadata={'source': 'Ramayana Short Story.pdf', 'page': 0}),\n",
       " Document(page_content=\"Chapter 1 - The Bal Kand of\\nRamayana\\nRam's Birthjourney. This narrative is is poetic and aims for the reader to develop love for\\nGod.\\nFor the purposes of this blog, we have referred mostly to the Tulsidas's\\nRamayana.\\nThe seven chapters that make up the Tulsidas's Ramayana are known as Kands\\n(chapters or episodes); they are Bal Kand, Ayodhya Kand, Aranya Kand,\\nKishkindha Kand, Sunder Kand, Lanka Kand, and Uttar Kand. The story of\\nLord Ram is gradually revealed in these chapters, emphasizing the divine\\nqualities of selﬂess love, sacriﬁce, patience, forgiveness, righteousness,\\ncommitment, and so forth.\\nOur hope is that, after reading this concise synopsis, the reader will be\\npersuaded to delve deeper into this profound and timeless scripture.\\nThe epic Ramayana's Bal Kand establishes the divine beginnings of Rama, his\\nextraordinary attributes, and the dharma that forms the basis of his life.\\nThe chapter begins with salutations to Saraswati, the goddess of knowledge,\\nand Ganesha, the remover of obstacles, invoking their blessings. The author,\\nTulsidas, presents the idea of Brahman, the ultimate reality, from whom God\\nVishnu manifests.\\nLord Vishnu chooses to become an incarnation in human form because he is\\nalarmed by the abundance of evil in the world. Brahma is approached by sage\\nNarada and others, who implore him to disclose the form that Vishnu will\\nbecome.\\nThe story of Lord Vishnu's descent as Rama, the eldest son of King Dasharatha\\nof Ayodhya, is told by Brahma. He talks about Ram's divine attributes, such as10/06/2024, 02:58 Ramayana Short Story\\nhttps://blog.jkyog.org/ramayana-short-story/ 3/17\", metadata={'source': 'Ramayana Short Story.pdf', 'page': 1}),\n",
       " Document(page_content=\"Vishwamitra Yagya and Demon Encounters\\nSita Swayamvara and Sita-Ram weddinghis courage, strength, compassion, and knowledge.\\nThe story then moves to Ayodhya, a wealthy kingdom under the moral\\nleadership of King Dasharatha. The king had four sons: Rama, Lakshmana (born\\nto Sumitra), Bharata (born to Kaikeyi), and Shatrughna (born to Sumitra). He has\\nthree wives: Kausalya, Kaikeyi, and Sumitra.\\nThe celebrations of Ram's birth, which included lavish events and prophecies of\\nhis glory, are also covered in these set of dohas.\\nThe story tells about Ram's and his brothers' extraordinary upbringing.\\nEveryone in the kingdom adores Ram, and He is said to be gorgeous, clever, and\\nkind.\\nWhen the sage Vishwamitra arrives in Ayodhya, he begs Ram for assistance in\\ndefending his yagya (ﬁre sacriﬁce) from demons that interfere with the\\nceremonies. Ram is quite happy to go with Vishwamitra, even though he is still\\nquite young. Lakshmana also accompanies them.\\nAlong their path, they come face to face with the horrifying demon Tadaka,\\nknown for causing terror in the area. When Ram bravely vanquishes Tadaka, the\\npeople and sages are grateful.\\nWhen Ram and Lakshmana arrive at Vishwamitra's ashram, they encounter a\\nnumber of obstacles from demons like Maricha and Subahu. Through his\\ncleverness and prowess in battle, Ram defeats the demons and ensures a\\nsuccessful completion of the yagya.\\nVishwamitra is impressed by Ram's courage and commitment, and he bestows\\nupon him and Lakshman celestial weapons and divine knowledge, eﬀectively\\npreparing them for their forthcoming challenges.10/06/2024, 02:58 Ramayana Short Story\\nhttps://blog.jkyog.org/ramayana-short-story/ 4/17\", metadata={'source': 'Ramayana Short Story.pdf', 'page': 2}),\n",
       " Document(page_content=\"Signi\\x00cance of the Bal Kand\\nChapter 2 - The Ayodhya Kand of\\nRamayana\\nPreparations for the Coronation of RamRam and Lakshmana are brought to Janakpur, the kingdom of King Janaka, by\\nVishwamitra. Janaka is holding a swayamvara (self-choice of husband) for her\\nbeautiful and clever daughter Sita.\\nIndian kings and princes assemble to compete in a task that involves lifting and\\nstringing an incredibly hefty bow. Many try, but Ram's great strength allows\\nhim to lift and string the bow with ease.\\nWhen Janaka realizes Ram as a divine personality, he is ecstatic and agrees to\\nmarry Sita. The chapter recounts the splendor of the marriage ritual that united\\nRam and Sita, a representation of the essence of devotion and love.\\nThe Bal Kand demonstrates Ram's goodness, extraordinary abilities, and divine\\nmission. Sita is also introduced in this chapter, emphasizing the signiﬁcance of\\ntheir relationship. The emphasis on dharma, duty, and education foreshadows\\nthe diﬃculties Ram would encounter and his unyielding adherence to these\\nvalues.\\nThe Ayodhya Kand of Tulsidas' Ramcharitmanas sets the stage for Ram's epic\\njourney. Ram, the personiﬁcation of virtue and the presumed heir to the\\nAyodhya kingdom, encounters an unjust turn of events.\\nOvercome with happiness, King Dasharatha chooses to appoint Ram as his heir.\\nThe city is decked out for the coronation event, and people are looking forward\\nto a golden age under Ram's rule as preparations get underway. But there's a\\ncloud of doom hanging over the celebrations.10/06/2024, 02:58 Ramayana Short Story\\nhttps://blog.jkyog.org/ramayana-short-story/ 5/17\", metadata={'source': 'Ramayana Short Story.pdf', 'page': 3}),\n",
       " Document(page_content=\"Kaikeyi's Two Boons\\nRam's Un\\x00inching Determination\\nRam, Sita and Lakshman Head to the ForestManthara, the maidservant of Kaikeyi, manipulates her and reminds her of the\\ntwo boons granted by King Dashrath in the past. Driven by excessive love for\\nher son Bharat, Kaikeyi goes to Dashrath and insists on her two wishes being\\ngranted. Her son Bharat's coronation as king is the ﬁrst boon; Ram's fourteen-\\nyear exile into forests is the second. Hearing these requests, King Dasharath\\ncollapses, overcome by grief and bound by his oath. He begs Kaikeyi to change\\nher mind but she is relentless. Dasharath becomes seriously ill because he is\\ntorn between his love for Ram and his obligation to his wife.\\nWhen Ram ﬁnds out about the circumstances, he shows a great deal of\\nacceptance and maturity. He puts the stability of the kingdom and his father's\\nprestige ahead of his personal interests. Despite the catastrophe that is\\nhappening, he doesn't lose his composure.\\nSita declares her steadfast support for Ram. Enraged by the injustice,\\nLakshman criticizes Ram's choice to go into exile without voicing any\\nopposition.\\nRam emphasizes the value of following their father's instructions and\\npreserving dharma (righteousness). He emphasizes that keeping their father's\\npledge is worth the tiny price of being exiled.\\nSita, unwilling to be separated from Ram, insists on accompanying him into\\nexile. Lakshman, Ram's loyal brother, also chooses to join them.\\nWith great sadness, King Dasharath bids farewell to Ram, Sita, and Lakshman.\\nHe expresses his deep regret and helplessness against Kaikeyi's demand.\\nRam consoles his devastated father, assuring him of his everlasting love in the\\nmidst of overwhelming sorrow.10/06/2024, 02:58 Ramayana Short Story\\nhttps://blog.jkyog.org/ramayana-short-story/ 6/17\", metadata={'source': 'Ramayana Short Story.pdf', 'page': 4}),\n",
       " Document(page_content=\"Signi\\x00cance of The Ayodhya Kand of\\nRamayana\\nChapter 3 - The Aranya Kand of\\nRamayana\\nFinding Home in the ForestThe people of Ayodhya are unwilling to accept the forthcoming exodus. In an\\neﬀort to persuade Ram to stay, they assure him of his legitimate right to the\\nthrone.Despite their pleas, Ram remains resolute in his commitment to carry\\nout his father's wishes. He encourages the residents of Ayodhya to maintain\\ntheir loyalty to Bharat and acknowledges that his exile is a duty towards his\\nfather that he must fulﬁll.\\nThe Ayodhaya Kand establishes the core conﬂict of the Ramayana – the\\nviolation of dharma (righteousness) by Kaikeyi and the subsequent\\nconsequences. It showcases Ram's righteousness, Sita's devotion, Lakshman's\\nloyalty, Bharata's integrity and Dashrath's commitment to his words.\\nThe Aranya Kand in the Ramcharitmanas narrates the tale of the forest life of\\nRam, Lakshman and Sita including Sita’s abduction by the demon King Ravana.\\nAfter being banished, Ram travels far into the Dandaka forest with Sita and\\nLakshman. The tranquil lakes and verdant surroundings of the natural world\\nprovide a striking contrast to the chaos they left behind in Ayodhya. Ram\\nconstructs a modest ashram and begins a life of serenity, abiding by the\\nprecepts of dharma and coexisting with the natural world. They become friends\\nwith the sages and ascetics who live in the forest.\\nDandakaranya forest is infested by demons who bother the saints and ascetics.\\nRam kills demon like Viradha and others so sages can live peacefully. Then he\\nvisits the ashrams of Sharabhanga and Suteekshna.10/06/2024, 02:58 Ramayana Short Story\\nhttps://blog.jkyog.org/ramayana-short-story/ 7/17\", metadata={'source': 'Ramayana Short Story.pdf', 'page': 5}),\n",
       " Document(page_content=\"Encounter with Surpanakha, Sister of\\nRavan\\nThe Deception of Maricha and the\\nAbduction of Sita\\nSearch for Sita and Meeting with ShabriRam, Sita and Lakshman reach the ashram of Saint Agasthya. Agasthya greets\\nRam and oﬀers powerful weapons. He also suggests them to go to Panchavati,\\non the banks of river Godavari, and settle there. On the way to Panchavati, the\\nmighty old eagle Jatayu greets Ram.\\nA\\xa0demoness woman, Surpanakha, the sister of Ravana, was captivated by the\\nmatchless beauty of Ram. She attempted to seduce him. But when she failed to\\nwin either of the two princes, she turned to attack Sita. Lakshmana cut oﬀ her\\nnose and ears as a punishment. Hearing of this, her demon brother, Khara,\\norganized an attack against the princes. Ram destroyed Khara and his huge\\narmy.\\nIn order to avenge her humiliation, Surpanakha approached Ravana. She well\\nknew of his weakness for women, and the wily demoness described the\\nbewitching beauty of Sita. Her intention to bring this beautiful \\xa0woman to him\\nwas foiled and she was mutilated. Ravan was aroused more by lust than by\\nanger and he resolved to punish Ram by capturing Sita.\\nWith Marich's help, Ravan devises a plan and successfully kidnaps Sita. Jatayu, a\\ngiant vulture and friend of Ram, tries to rescue Sita, but instead gets severely\\nwounded in the attempt. Sita is help captive under guard in the Ashoka Vatika\\nin Lanka. Ravana used various means of persuasion to force her to accept him\\nbut remain unsuccessful.\\nRam and Lakshman learnt about Sita’s abduction from Jatayu. Because of his\\ndevotion and service to Ram. Jatayu received liberation from Ram. The princes\\nimmediately set out in search of Sita. During their quest,\\xa0Ram killed a demon10/06/2024, 02:58 Ramayana Short Story\\nhttps://blog.jkyog.org/ramayana-short-story/ 8/17\", metadata={'source': 'Ramayana Short Story.pdf', 'page': 6}),\n",
       " Document(page_content=\"Signi\\x00cance of the Aranya Kand of\\nRamayana\\nChapter 4 - The Kishkindha Kand\\nof Ramayana\\nMeeting with Hanuman and SugrivKabandha, thus liberating him from a curse. They also met the ascetic Shabari,\\nwho directed them towards Rishyamukh mountain where they would meet\\nSugriv and Hanuman.\\nKabandha also advised Ram to visit the hermitage of Matanga and meet Sabari,\\nthe old disciple of the Sage. Ram meets Sabari and was pleased with the pure\\ndevotion of the old sage. Sabari was waiting eagerly for Ram’s holy vision.\\nSabari gave some clues about Sita. She left her body in the presence of Ram\\nseeking blessing to ascend to the holy celestial regions of Sages. After this\\nincident, Ram moves to Rishyamuka mountain to meet Sugriv.\\nThe story of Shabri in the Aranya Kand of Ramayana is highly acclaimed. It\\nbrings the point across that the key to attract God's grace is to embrace\\nsimplicity, like that of a child, and devote ourselves to God with absolute faith\\nand surrender.\\nThe Kishkindha Kand of Ramcharitmanas describes Ram's entry into Kishkindha,\\nHis meeting with Hanuman and partnership with Sugriv.\\nAs Ram and Lakshman wondered in search for Sita, Along the way, they found\\nRishyamhook mountain where Sugriv lived with his minister Jambavan and\\nassociate Hanuman. When Sugriv spotted the two prices, suspected if they\\nwere sent by his brother Bali. Hanuman disguises himself as a brahmin and\\napproaches Ram and Laksman. Hanuman recognizes Ram and surrenders\\nhimself to his holy feet. He informs Ram that Sugriv has seen Sita’s abduction.10/06/2024, 02:58 Ramayana Short Story\\nhttps://blog.jkyog.org/ramayana-short-story/ 9/17\", metadata={'source': 'Ramayana Short Story.pdf', 'page': 7}),\n",
       " Document(page_content=\"Sugriv Challanges Bali for Battle\\nSugriv gets Ready With His Army to Search\\nfor Sita\\nHanuman is Reminded of His Extraordinary\\nPowers by JambavanSugriv shares his story of how his brother Bali deceived him. They both agree to\\nhelp each other.\\nRam asks Sugriv to engage Bali in a duel and entice him out of Kishkindha.\\nHowever, both Sugriv and Bali looked so alike that Ram could not diﬀerentiate\\nand was unable to kill Bali. As a consequence Sugriv is severely injured and has\\nto run away. Nevertheless, Ram asked Sugriv to wear a ﬂower garland as a mark\\nof identiﬁcation between the two brothers. This time Ram is able to kill Bali.\\nSugriv was crowned as the king of Kishkindha by Ram following Bali's demise.\\nHowever, Sugriv got distracted and forgot his promise to help Ram in ﬁnding\\nSita. Laxman rebuked Sugriv and refreshed his memory regarding his pledge.\\nWithout delay, Sugriv commanded the assembly of the bear and vanara\\n(monkey) communities. In order to ﬁnd Sita, contingents of bears and monkeys\\nwere sent out to search in all directions. Hanuman was accompanied by Angad,\\nNala, Kesari, Jambavan, and others as they set oﬀ towards the southern\\ndirection. Closer to the sea coast, they noticed a cave that was occupied by\\nJatayu's brother Sampati. Angad informed Sampati about the demise of his\\nborther Jatayu while trying to protect Sita. Sampati suggests that they will ﬁnd\\nSita in the island of Lanka, which is four hundred miles away. He warned that\\nonly someone who could cross the vast ocean in one leap would be able to\\nreach Lanka.\\nAngad shared that he could leap across the ocean, but he couldn't make it back.\\nJambavan knew that Hanuman was the only one capable of the task. Hanuman\\nwas reminded by Jambavan about his amazing powers that had become10/06/2024, 02:58 Ramayana Short Story\\nhttps://blog.jkyog.org/ramayana-short-story/ 10/17\", metadata={'source': 'Ramayana Short Story.pdf', 'page': 8}),\n",
       " Document(page_content=\"Signi\\x00cance of Kishkindha Kand\\nChapter 5 - The Sundar Kand of\\nRamayana\\nObstacles in Hanuman’s Journey to Lanka\\nHanuman Meets with Vibhishandormant as result of misuse. He also told Hanuman that he was born to\\naccomplish the work of his master, Ram. Additionally, he revealed to Hanuman\\nthat he had been born to carry out his master, Ram's, assignment.\\nThe Kishkindha Kand emphasizes how crucial it is to build coalitions around\\nsimilar ideals. It also examines the diﬃcult relationship between justice and\\nwar, and when action becomes necessary.\\nThe Sundara Kand (Beautiful Chapter) of the Ramcharitmanas deals primarily\\nwith Hanuman’s journey to Lanka and exempliﬁes Hanuman's selﬂessness,\\nstrength, and devotion to Ram.\\nHanuman encountered numerous obstacles while crossing the ocean to reach\\nLanka, including the Mainak mountain, Demoness Sinhika, and later Sursa. Even\\nafter successfully crossing the ocean, he faced the daunting task of ﬁnding a\\nway through Lankini and other formidable forces that were guarding the\\ngolden city of Lanka. Hanuman uses his intelligence, strength, and agility to\\novercome all the challenges.\\nUpon reaching Lanka, Hanuman assumed the form of an insect and commenced\\nhis ﬂight across the city in search of Sita. He came across a temple of Ram in\\nLanka and was pleasantly surprised. Subsequently he spotted Vibhishan coming\\ntowards Ram's temple and decided to approach him for a conversation.\\nHanuman imparts spiritual wisdom to Vibhishan and encourages him to10/06/2024, 02:58 Ramayana Short Story\\nhttps://blog.jkyog.org/ramayana-short-story/ 11/17\", metadata={'source': 'Ramayana Short Story.pdf', 'page': 9}),\n",
       " Document(page_content=\"Hanuman Finds Sita and Assures Her\\nHanuman Sets Lanka on Fire\\nHanuman Heads Back to Kishkindhasurrender at the lotus feet of Ram. Vibhishan guides Hanuman about the\\nwhereabouts of Sita in Lanka.\\nHanuman sees Sita in the Ashoka Vatika, with numerous demons surrounding\\nher. Soon after, Ravan appears and tries to intimidate Sita into marrying him,\\nbut his eﬀorts are in vain. Hanuman spots Sita in the Ashoka Vatika,\\nsurrounded by many demons. In a short while, Ravan shows up there and tries\\nto intimidate Sita into marrying him but is unsuccessful.\\nHanuman, still in a tiny form, appears before Sita now and introduces himself as\\nservant and messenger of Ram while presenting Ram's ring to Sita as a proof.\\nHe assures her that Ram, Lakshman and their army will soon rescue her from\\nRavan's captivity.\\nHanuman gets permission from Sita to eat the fruits from the trees in Ashok\\nVatika. He deliberately creates a scene by uprooting trees and even killing a\\nfew of Ravan’s soldiers. Hanuman is uncontrollable, but ﬁnally, Meghnath\\ncaptures Hanuman and is brought to Ravan's court. In spite of Hanuman's pleas,\\nRavan adamantly refuses to consider releasing Sita or take any of his advice\\ninto account.\\nRavan then instructed his men to put Hanuman's tail on ﬁre and let him go.\\nWith his tail ablaze, Hanuman started jumping from one palace on to the other,\\nsetting Lanka ablaze.\\nBefore leaving Lanka, Hanuman meets with Sita again and asks for her bangles\\nto take back to Ram as a proof of their meeting. Hanuman shares with Ram\\nabout his journey to Lanka. Ram then told Sugreev that they should make\\npreparations to march towards Lanka. He encouraged and energized the Vanar\\narmy.10/06/2024, 02:58 Ramayana Short Story\\nhttps://blog.jkyog.org/ramayana-short-story/ 12/17\", metadata={'source': 'Ramayana Short Story.pdf', 'page': 10}),\n",
       " Document(page_content=\"Vibhishan Surrenders to Ram\\nSigni\\x00cance of the Sundar Kand\\nChapter 6 - The Lanka Kand of\\nRamayana\\nConstruction of the Bridge and War Games\\nAngada's Mission and Ravana's ArroganceVibhishan attempts to persuade Ravan to free Sita and avoid engaging in a\\nbattle with Ram. Realizing that it is futile to try and persuade Ravan, he\\nchooses to depart Lanks and join Ram and Lakshman in their quest to rescue\\nSita from Ravan's clutches. Ram welcomes Vibhishan with open arms and\\ncrowns him as the King of Lanka.\\nThe Sundar Kand is the heart of Ramayana and is also the most popular chapter.\\nIt showcases the power of faith, devotion, and surrender.\\nThe dramatic events leading up to Ram and Ravana's confrontation are\\ndescribed in detail in the Ramcharitmanas' Lanka Kand. It highlights themes of\\nbravery, devotion, the strength of faith and love, and the eventual victory of\\ngood over evil.\\nRam and Sugriv make arrangements to build a bridge across the vast sea,\\nseparating them from Lanka. Nala and Neel, blessed with extraordinary\\nengineering skills, led the Vanara army to build the Ram Setu (bridge). Before\\nbeginning their march towards Lanka, Ram established a Shivlinga at\\nRameshvaram and oﬀered his worship.\\nRam sends Angada as a peace messenger to Ravana's court before the war,\\noﬀering one last chance for Ravana to release Sita and prevent the conﬂict.\\xa0\\nAngada urges Ravana to release Sita and avoid a catastrophic battle.10/06/2024, 02:58 Ramayana Short Story\\nhttps://blog.jkyog.org/ramayana-short-story/ 13/17\", metadata={'source': 'Ramayana Short Story.pdf', 'page': 11}),\n",
       " Document(page_content=\"The Battle of Lanka\\nSita's Reuni\\x00cation with Ram and\\nCoronation of Vibhishan\\nSigni\\x00cance of the Lanka Kand of\\nRamayana\\nChapter 7 - The Uttara Kand of\\nRamayanaDisregarding Angada's counsel, Ravana, driven by desire and pride, insults Ram\\nand his army. The battle is inevitable now.\\nThe army of Ram arrives in Lanka and conﬂicts break out between the Ram's\\narmy and the Ravana's sons and generals. Ravana's son Indrajit aims his Shakti\\nbaan at Lakshman knocking him unconscious. Hanuman saves Lakshman's life\\nby bringing the magical herb Sanjivani from the Himalayas Ram ultimately\\ndefeats the ten-headed demon king Ravana by overpowering him and piercing\\nhim with his arrows thanks to the gods' aid.\\nAt the end of battle, the Vanara army celebrate their victory, signifying triumph\\nof good over evil. Ram coronates Vibhishan as the King of Lanka. Sita goes\\nthrough Agni Pariksha before they all head to Ayodhya on the Pushpak Viman\\nwhere Bharat is eagerly waiting for their return, the fourteen years of exile in\\nforests are coming to an end soon.\\nThe Lanka Kand highlights the power of unﬂinching faith in God that makes\\nAngad fearless as he visits Ravan as Ram's peace messenger. The triumph of\\ngood over evil is a prevailing theme of this chapter.\\nThe Utta Kand is the last Chapter of the Book, and can be broadly divided into\\ntwo parts. The ﬁrst half celebrates return of Ram to Ayodhya and10/06/2024, 02:58 Ramayana Short Story\\nhttps://blog.jkyog.org/ramayana-short-story/ 14/17\", metadata={'source': 'Ramayana Short Story.pdf', 'page': 12}),\n",
       " Document(page_content=\"Ayodhya Celebrates Return of Ram - Start\\nof Diwali Tradition\\nEstablishment of Ram Rajya\\nLord Shiv Narrates Ram Katha Mahatmya\\n(Glories of Ram) to Mother Parvati\\nO\\x00ering Prayers to Lord Ramestablishment of Ram Rajya. The second half touches on spiritual knowledge in\\nthe form of dialects between Shiv-Parvati and Kag Bhushundi-Garud.\\nLord Ram and his companions reached Ayodhya on the Pushpak airplane. The\\nentire kingdom is lighted with Ghee Candles and joy of the people of Ayodhya\\nknows no bounds. The returning of Ram back to Ayodhya has since been\\ncelebrated as the most revered festival amongst the Hindus. Amidst a\\nspectacular ceremony, Ram is crowned as the King of Ayodhya. Sugreev,\\nVibhishan and other companions departs from Ayodhya shortly thereafter.\\nHanuman stays in Ayodhya as he could not bear separation from Ram even for a\\nmoment. (Read heart touching story of Hunuman and Sindoor)\\nLord Ram established his famed 'Ram Rajya', the Rule of Dharma, throughout\\nhis realm. \\xa0It is marked by righteous leadership, justice, fairness, and empathy,\\nimmense prosperity and universal happiness.\\xa0In Ram's kingdom, there were no\\nwidows to lament, nor there was any danger from wild animals, nor any fear\\nborn of diseases. The kingdom was bereft of thieves and robberies.\\nShiva narrates to goddess Uma, his consort, the enlightening conversation\\nbetween Kaagbhusundi and Garud. Many important spiritual principles and\\nphilosophies are explained for the beneﬁt of spiritual aspirants and seekers of\\ndivine knowledge.10/06/2024, 02:58 Ramayana Short Story\\nhttps://blog.jkyog.org/ramayana-short-story/ 15/17\", metadata={'source': 'Ramayana Short Story.pdf', 'page': 13})]"
      ]
     },
     "execution_count": 59,
     "metadata": {},
     "output_type": "execute_result"
    }
   ],
   "source": [
    "from langchain.document_loaders import PyPDFLoader\n",
    "\n",
    "loader = PyPDFLoader(\"Ramayana Short Story.pdf\")\n",
    "data = loader.load()\n",
    "data"
   ]
  },
  {
   "cell_type": "markdown",
   "id": "9802b62d",
   "metadata": {},
   "source": [
    "CHUNKING DATA"
   ]
  },
  {
   "cell_type": "code",
   "execution_count": 58,
   "id": "2ca233a9",
   "metadata": {},
   "outputs": [],
   "source": [
    "def chunk_data(data, chunk_size=256):\n",
    "  from langchain.text_splitter import RecursiveCharacterTextSplitter\n",
    "  text_splitter = RecursiveCharacterTextSplitter(chunk_size=chunk_size, chunk_overlap=20)\n",
    "  chunks = text_splitter.split_documents(data)\n",
    "  \n",
    "  return chunks"
   ]
  },
  {
   "cell_type": "code",
   "execution_count": 61,
   "id": "c4b6778e",
   "metadata": {},
   "outputs": [
    {
     "name": "stdout",
     "output_type": "stream",
     "text": [
      "Total number of chunks: 104\n"
     ]
    }
   ],
   "source": [
    "documents = chunk_data(data)\n",
    "print(f\"Total number of chunks: {len(documents)}\")"
   ]
  },
  {
   "cell_type": "markdown",
   "id": "a3d91bd0",
   "metadata": {},
   "source": [
    "CREATE PINECONE EMBEDDINGS"
   ]
  },
  {
   "cell_type": "code",
   "execution_count": 62,
   "id": "0ecf6934-7037-48e7-86d1-555d7ecaa6cf",
   "metadata": {},
   "outputs": [],
   "source": [
    "def insert_or_fetch_embeddings(index_name, chunks, embeddings):\n",
    "  import pinecone\n",
    "  from langchain_community.vectorstores import Pinecone\n",
    "  from pinecone import PodSpec\n",
    "  pc = pinecone.Pinecone()\n",
    "\n",
    "  if index_name in pc.list_indexes().names():\n",
    "    print(f'Index {index_name} already exists. Loading embeddings ...', end='')\n",
    "    vectorstore = Pinecone.from_existing_index(index_name, embeddings)\n",
    "    print('Ok')\n",
    "  else:\n",
    "    print(f'Creating index {index_name} and embeddings ...', end='')\n",
    "    pc.create_index(name=index_name, dimension=1536, metric=\"cosine\", spec=PodSpec(environment=\"gcp-starter\"))\n",
    "    vectorstore = Pinecone.from_documents(chunks, embeddings, index_name=index_name)\n",
    "    print('Ok')\n",
    "\n",
    "  return vectorstore"
   ]
  },
  {
   "cell_type": "code",
   "execution_count": 63,
   "id": "a0759a4a-0ea8-4497-82ee-de441f9994dd",
   "metadata": {},
   "outputs": [
    {
     "name": "stdout",
     "output_type": "stream",
     "text": [
      "Creating index ramayana and embeddings ...Ok\n"
     ]
    }
   ],
   "source": [
    "index_name = 'ramayana'\n",
    "vectorstore = insert_or_fetch_embeddings(index_name, documents, embeddings)"
   ]
  },
  {
   "cell_type": "code",
   "execution_count": 64,
   "id": "d3f1d7fc",
   "metadata": {},
   "outputs": [
    {
     "data": {
      "text/plain": [
       "[Document(page_content='https://blog.jkyog.org/ramayana-short-story/ 6/17', metadata={'page': 4.0, 'source': 'Ramayana Short Story.pdf'}),\n",
       " Document(page_content='https://blog.jkyog.org/ramayana-short-story/ 13/17', metadata={'page': 11.0, 'source': 'Ramayana Short Story.pdf'}),\n",
       " Document(page_content='Sugriv Challanges Bali for Battle\\nSugriv gets Ready With His Army to Search\\nfor Sita\\nHanuman is Reminded of His Extraordinary\\nPowers by JambavanSugriv shares his story of how his brother Bali deceived him. They both agree to\\nhelp each other.', metadata={'page': 8.0, 'source': 'Ramayana Short Story.pdf'}),\n",
       " Document(page_content='Everyone in the kingdom adores Ram, and He is said to be gorgeous, clever, and\\nkind.\\nWhen the sage Vishwamitra arrives in Ayodhya, he begs Ram for assistance in\\ndefending his yagya (ﬁre sacriﬁce) from demons that interfere with the', metadata={'page': 2.0, 'source': 'Ramayana Short Story.pdf'})]"
      ]
     },
     "execution_count": 64,
     "metadata": {},
     "output_type": "execute_result"
    }
   ],
   "source": [
    "retriever = vectorstore.as_retriever()\n",
    "retriever.invoke(\"Tell me about Arjun\")"
   ]
  },
  {
   "cell_type": "markdown",
   "id": "bd25bc99",
   "metadata": {},
   "source": [
    "Plot similarity between Questions and embedding vectors"
   ]
  },
  {
   "cell_type": "code",
   "execution_count": 122,
   "id": "b6dd4d5e",
   "metadata": {},
   "outputs": [],
   "source": [
    "from openai import OpenAI\n",
    "client = OpenAI()\n",
    "\n",
    "def get_embedding(text, model=\"text-embedding-ada-002\"):\n",
    "    response = client.embeddings.create(\n",
    "    input=text,\n",
    "    model=model\n",
    ")\n",
    "    embedding = response.data[0].embedding\n",
    "    \n",
    "    return embedding"
   ]
  },
  {
   "cell_type": "code",
   "execution_count": null,
   "id": "7ce667e5",
   "metadata": {},
   "outputs": [],
   "source": [
    "from sklearn.metrics.pairwise import cosine_similarity\n",
    "import numpy as np\n",
    "import pinecone\n",
    "\n",
    "pc = pinecone.Pinecone()\n",
    "index = pc.Index(index_name)\n",
    "\n",
    "questions = [\"Tell me about Ram and Ravan\"]\n",
    "embed = list(get_embedding(questions[0]))\n",
    "results = index.query(embeddings=embed, top_k=10)\n",
    "similarity_matrix = cosine_similarity(results)"
   ]
  },
  {
   "cell_type": "code",
   "execution_count": null,
   "id": "7d96838a",
   "metadata": {},
   "outputs": [],
   "source": [
    "import matplotlib.pyplot as plt\n",
    "import seaborn as sns\n",
    "\n",
    "# Plot similarity matrix\n",
    "plt.figure(figsize=(10, 8))\n",
    "sns.heatmap(similarity_matrix, annot=True, xticklabels=[questions], yticklabels=questions, cmap='coolwarm')\n",
    "plt.title('Question Similarity Heatmap')\n",
    "plt.show()"
   ]
  },
  {
   "cell_type": "markdown",
   "id": "21ec55fa",
   "metadata": {},
   "source": [
    "CREATING CHAIN"
   ]
  },
  {
   "cell_type": "code",
   "execution_count": 87,
   "id": "afb67a82",
   "metadata": {},
   "outputs": [
    {
     "name": "stdout",
     "output_type": "stream",
     "text": [
      "Ram and Ravan are fighting because Ravan kidnapped Sita, Ram's wife, and Ram is trying to rescue her from Ravan's clutches."
     ]
    }
   ],
   "source": [
    "from langchain_core.output_parsers import StrOutputParser\n",
    "from operator import itemgetter\n",
    "\n",
    "parser = StrOutputParser()\n",
    "\n",
    "chain =(\n",
    "        {\n",
    "            \"context\": itemgetter(\"question\") | retriever, \"question\": itemgetter(\"question\")\n",
    "        }\n",
    "        | prompt_template \n",
    "        | llm \n",
    "        | parser)\n",
    "for chr in chain.stream({\n",
    "    \"question\":\"Why ram and ravan are fighting?\"\n",
    "}):\n",
    "    print(chr, end=\"\", flush=True)"
   ]
  },
  {
   "cell_type": "markdown",
   "id": "c1fb8fe3",
   "metadata": {},
   "source": [
    "CREATING A MULTI-QUERY RETRIEVER"
   ]
  },
  {
   "cell_type": "code",
   "execution_count": 78,
   "id": "d0aa6071",
   "metadata": {},
   "outputs": [],
   "source": [
    "from langchain.retrievers.multi_query import MultiQueryRetriever\n",
    "\n",
    "multi_query_retriever = MultiQueryRetriever.from_llm(retriever=vectorstore.as_retriever(), llm=llm)"
   ]
  },
  {
   "cell_type": "code",
   "execution_count": 82,
   "id": "98c860f7",
   "metadata": {},
   "outputs": [],
   "source": [
    "question = \"Why ram and ravan are fighting?\"\n",
    "queries = multi_query_retriever.invoke(question)\n"
   ]
  },
  {
   "cell_type": "code",
   "execution_count": 84,
   "id": "30f9c1ed",
   "metadata": {},
   "outputs": [
    {
     "data": {
      "text/plain": [
       "\"battle with Ram. Realizing that it is futile to try and persuade Ravan, he\\nchooses to depart Lanks and join Ram and Lakshman in their quest to rescue\\nSita from Ravan's clutches. Ram welcomes Vibhishan with open arms and\\ncrowns him as the King of Lanka.\\n\\nand his army. The battle is inevitable now.\\nThe army of Ram arrives in Lanka and conﬂicts break out between the Ram's\\narmy and the Ravana's sons and generals. Ravana's son Indrajit aims his Shakti\\n\\nRavan adamantly refuses to consider releasing Sita or take any of his advice\\ninto account.\\nRavan then instructed his men to put Hanuman's tail on ﬁre and let him go.\\nWith his tail ablaze, Hanuman started jumping from one palace on to the other,\\n\\nRam sends Angada as a peace messenger to Ravana's court before the war,\\noﬀering one last chance for Ravana to release Sita and prevent the conﬂict.\\xa0\\nAngada urges Ravana to release Sita and avoid a catastrophic battle.10/06/2024, 02:58 Ramayana Short Story\\n\\ncleverness and prowess in battle, Ram defeats the demons and ensures a\\nsuccessful completion of the yagya.\\nVishwamitra is impressed by Ram's courage and commitment, and he bestows\\nupon him and Lakshman celestial weapons and divine knowledge, eﬀectively\\n\\nThe Lanka Kand highlights the power of unﬂinching faith in God that makes\\nAngad fearless as he visits Ravan as Ram's peace messenger. The triumph of\\ngood over evil is a prevailing theme of this chapter.\\n\\nRam, Lakshman and Sita including Sita’s abduction by the demon King Ravana.\\nAfter being banished, Ram travels far into the Dandaka forest with Sita and\\nLakshman. The tranquil lakes and verdant surroundings of the natural world\""
      ]
     },
     "execution_count": 84,
     "metadata": {},
     "output_type": "execute_result"
    }
   ],
   "source": [
    "queries = \"\\n\\n\".join([query.page_content for query in queries])\n",
    "queries"
   ]
  },
  {
   "cell_type": "code",
   "execution_count": 85,
   "id": "ae1e3212",
   "metadata": {},
   "outputs": [
    {
     "name": "stdout",
     "output_type": "stream",
     "text": [
      "Ram and Ravan are fighting because Ravan abducted Sita, Ram's wife, and refused to release her despite multiple attempts at negotiation and peaceful resolution."
     ]
    }
   ],
   "source": [
    "chain =(\n",
    "        {\n",
    "            \"context\": itemgetter(\"context\"), \"question\": itemgetter(\"question\")\n",
    "        }\n",
    "        | prompt_template \n",
    "        | llm \n",
    "        | parser)\n",
    "for chr in chain.stream({\n",
    "    \"context\": queries,\n",
    "    \"question\":\"Why ram and ravan are fighting?\"\n",
    "}):\n",
    "    print(chr, end=\"\", flush=True)"
   ]
  },
  {
   "cell_type": "markdown",
   "id": "77b6f6f7",
   "metadata": {},
   "source": [
    "EXPLORING CONTEXT COMPRESSION"
   ]
  },
  {
   "cell_type": "code",
   "execution_count": 88,
   "id": "b7c42b57",
   "metadata": {},
   "outputs": [],
   "source": [
    "compression_prompt_template = \"\"\"Given the following question and context, extract any part of the context *AS IS* that is relevant to answer the question. If none of the context is relevant return {no_output_str}.\n",
    "\n",
    "Remember, *DO NOT* edit the extracted parts of the context.\n",
    "\n",
    "> Question: {{question}}\n",
    "> Context:\n",
    ">>>\n",
    "{{context}}\n",
    ">>>\n",
    "Extracted relevant parts:\"\"\""
   ]
  },
  {
   "cell_type": "code",
   "execution_count": 91,
   "id": "93daa357",
   "metadata": {},
   "outputs": [
    {
     "data": {
      "text/plain": [
       "[Document(page_content=\"battle with Ram. Realizing that it is futile to try and persuade Ravan, he\\nchooses to depart Lanks and join Ram and Lakshman in their quest to rescue\\nSita from Ravan's clutches. Ram welcomes Vibhishan with open arms and\\ncrowns him as the King of Lanka.\", metadata={'page': 11.0, 'source': 'Ramayana Short Story.pdf'}),\n",
       " Document(page_content=\"and his army. The battle is inevitable now.\\nThe army of Ram arrives in Lanka and conﬂicts break out between the Ram's\\narmy and the Ravana's sons and generals. Ravana's son Indrajit aims his Shakti\", metadata={'page': 12.0, 'source': 'Ramayana Short Story.pdf'}),\n",
       " Document(page_content='Ram and oﬀers powerful weapons. He also suggests them to go to Panchavati,\\non the banks of river Godavari, and settle there. On the way to Panchavati, the\\nmighty old eagle Jatayu greets Ram.', metadata={'page': 6.0, 'source': 'Ramayana Short Story.pdf'}),\n",
       " Document(page_content=\"Ravan adamantly refuses to consider releasing Sita or take any of his advice\\ninto account.\\nRavan then instructed his men to put Hanuman's tail on ﬁre and let him go.\\nWith his tail ablaze, Hanuman started jumping from one palace on to the other,\", metadata={'page': 10.0, 'source': 'Ramayana Short Story.pdf'})]"
      ]
     },
     "execution_count": 91,
     "metadata": {},
     "output_type": "execute_result"
    }
   ],
   "source": [
    "from langchain.retrievers.document_compressors import LLMChainExtractor\n",
    "from langchain.retrievers.document_compressors.chain_extract import NoOutputParser\n",
    "\n",
    "question = \"Why ram and ravan are fighting?\"\n",
    "\n",
    "docs = vectorstore.as_retriever().invoke(question)\n",
    "docs"
   ]
  },
  {
   "cell_type": "code",
   "execution_count": 96,
   "id": "157c851b",
   "metadata": {},
   "outputs": [
    {
     "name": "stdout",
     "output_type": "stream",
     "text": [
      "input_variables=['context', 'question'] output_parser=NoOutputParser() template='Given the following question and context, extract any part of the context *AS IS* that is relevant to answer the question. If none of the context is relevant return NO_OUTPUT.\\n\\nRemember, *DO NOT* edit the extracted parts of the context.\\n\\n> Question: {question}\\n> Context:\\n>>>\\n{context}\\n>>>\\nExtracted relevant parts:'\n"
     ]
    }
   ],
   "source": [
    "output_parser = NoOutputParser()\n",
    "compression_template = compression_prompt_template.format(no_output_str=output_parser.no_output_str)\n",
    "COMPRESS_DOC_PROMPT = PromptTemplate(\n",
    "        input_variables= [\"question\",\"context\"],\n",
    "        template=compression_template,\n",
    "        output_parser=NoOutputParser()\n",
    ")\n",
    "print(COMPRESS_DOC_PROMPT)"
   ]
  },
  {
   "cell_type": "code",
   "execution_count": 97,
   "id": "3173fa29",
   "metadata": {},
   "outputs": [
    {
     "data": {
      "text/plain": [
       "[Document(page_content=\"battle with Ram. Realizing that it is futile to try and persuade Ravan, he\\nchooses to depart Lanks and join Ram and Lakshman in their quest to rescue\\nSita from Ravan's clutches. Ram welcomes Vibhishan with open arms and\\ncrowns him as the King of Lanka.\", metadata={'page': 11.0, 'source': 'Ramayana Short Story.pdf'}),\n",
       " Document(page_content=\"The army of Ram arrives in Lanka and conﬂicts break out between the Ram's\\narmy and the Ravana's sons and generals.\", metadata={'page': 12.0, 'source': 'Ramayana Short Story.pdf'})]"
      ]
     },
     "execution_count": 97,
     "metadata": {},
     "output_type": "execute_result"
    }
   ],
   "source": [
    "compressor = LLMChainExtractor.from_llm(llm,prompt=COMPRESS_DOC_PROMPT)\n",
    "compress_docs = compressor.compress_documents(documents=docs,query=question)\n",
    "compress_docs"
   ]
  },
  {
   "cell_type": "code",
   "execution_count": 98,
   "id": "7f14e2cd",
   "metadata": {},
   "outputs": [
    {
     "data": {
      "text/plain": [
       "\"battle with Ram. Realizing that it is futile to try and persuade Ravan, he\\nchooses to depart Lanks and join Ram and Lakshman in their quest to rescue\\nSita from Ravan's clutches. Ram welcomes Vibhishan with open arms and\\ncrowns him as the King of Lanka.\\n\\nThe army of Ram arrives in Lanka and conﬂicts break out between the Ram's\\narmy and the Ravana's sons and generals.\""
      ]
     },
     "execution_count": 98,
     "metadata": {},
     "output_type": "execute_result"
    }
   ],
   "source": [
    "queries = \"\\n\\n\".join([compress_doc.page_content for compress_doc in compress_docs])\n",
    "queries"
   ]
  },
  {
   "cell_type": "code",
   "execution_count": 99,
   "id": "fd75a7d8",
   "metadata": {},
   "outputs": [
    {
     "name": "stdout",
     "output_type": "stream",
     "text": [
      "Ram and Ravan are fighting because Ravan had kidnapped Sita, Ram's wife, and Ram is trying to rescue her from Ravan's clutches."
     ]
    }
   ],
   "source": [
    "chain =(\n",
    "        {\n",
    "            \"context\": itemgetter(\"context\"), \"question\": itemgetter(\"question\")\n",
    "        }\n",
    "        | prompt_template \n",
    "        | llm \n",
    "        | parser)\n",
    "for chr in chain.stream({\n",
    "    \"context\": queries,\n",
    "    \"question\":\"Why ram and ravan are fighting?\"\n",
    "}):\n",
    "    print(chr, end=\"\", flush=True)"
   ]
  },
  {
   "cell_type": "markdown",
   "id": "f1b3d4e9",
   "metadata": {},
   "source": [
    "EVALUATING MODEL AND OUTPUTS"
   ]
  },
  {
   "cell_type": "markdown",
   "id": "622c5b19",
   "metadata": {},
   "source": [
    "Answer Relevance"
   ]
  },
  {
   "cell_type": "code",
   "execution_count": 128,
   "id": "b8e1c3cc",
   "metadata": {},
   "outputs": [],
   "source": [
    "def get_relevance_of_answers(provider, prompt, response):\n",
    "    relevance_score = provider.relevance(\n",
    "        prompt=prompt,\n",
    "        response=response\n",
    "    )\n",
    "\n",
    "    return relevance_score"
   ]
  },
  {
   "cell_type": "code",
   "execution_count": 134,
   "id": "9d911bfe",
   "metadata": {},
   "outputs": [
    {
     "name": "stdout",
     "output_type": "stream",
     "text": [
      "Open AI Response  0.0\n"
     ]
    }
   ],
   "source": [
    "from trulens_eval import OpenAI as relevanceOpenAI\n",
    "\n",
    "openai_provider = relevanceOpenAI()\n",
    "prompt = \"\"\"\"battle with Ram. Realizing that it is futile to try and persuade Ravan, he\\nchooses to depart Lanks and join Ram and Lakshman in their quest to rescue\\nSita from Ravan's clutches. Ram welcomes Vibhishan with open arms and\\ncrowns him as the King of Lanka.\\n\\nThe army of Ram arrives in Lanka and conﬂicts break out between the Ram's\\narmy and the Ravana's sons and generals.\"\n",
    "\"\"\"\n",
    "response = \"Ram and Ravan are fighting because Ravan had kidnapped Sita, Ram's wife, and Ram is trying to rescue her from Ravan's clutches.\"\n",
    "response_openai = get_relevance_of_answers(openai_provider, prompt, response)\n",
    "print(\"Open AI Response \", response_openai)"
   ]
  },
  {
   "cell_type": "code",
   "execution_count": null,
   "id": "def6c773",
   "metadata": {},
   "outputs": [],
   "source": [
    "prompt = \"\"\"\"battle with Ram. Realizing that it is futile to try and persuade Ravan, he\\nchooses to depart Lanks and join Ram and Lakshman in their quest to rescue\\nSita from Ravan's clutches. Ram welcomes Vibhishan with open arms and\\ncrowns him as the King of Lanka.\\n\\nThe army of Ram arrives in Lanka and conﬂicts break out between the Ram's\\narmy and the Ravana's sons and generals.\"\n",
    "\"\"\"\n",
    "response = \"Ram and Ravan are fighting because Ravan took pencil from Ram's geometery.\"\n",
    "response_openai = get_relevance_of_answers(openai_provider, prompt, response)\n",
    "print(\"Open AI Response \", response_openai)"
   ]
  }
 ],
 "metadata": {
  "kernelspec": {
   "display_name": "Python 3 (ipykernel)",
   "language": "python",
   "name": "python3"
  },
  "language_info": {
   "codemirror_mode": {
    "name": "ipython",
    "version": 3
   },
   "file_extension": ".py",
   "mimetype": "text/x-python",
   "name": "python",
   "nbconvert_exporter": "python",
   "pygments_lexer": "ipython3",
   "version": "3.10.12"
  }
 },
 "nbformat": 4,
 "nbformat_minor": 5
}
